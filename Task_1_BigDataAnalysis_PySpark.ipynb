{
 "cells": [
  {
   "cell_type": "code",
   "execution_count": null,
   "id": "spark-init",
   "metadata": {},
   "outputs": [],
   "source": [
    "from pyspark.sql import SparkSession\n",
    "from pyspark.sql.functions import col, avg, desc\n",
    "\n",
    "spark = SparkSession.builder.appName(\"BigDataAnalysis\").getOrCreate()\n",
    "df = spark.read.csv(\"yellow_tripdata_2023-01.csv\", header=True, inferSchema=True)\n",
    "df.printSchema()\n",
    "df.select(\"passenger_count\", \"trip_distance\", \"total_amount\").show(5)\n",
    "\n",
    "filtered = df.filter((col(\"passenger_count\") > 0) & (col(\"trip_distance\") > 0))\n",
    "avg_fare = filtered.groupBy(\"passenger_count\").agg(avg(\"total_amount\").alias(\"avg_fare\")).orderBy(\"passenger_count\")\n",
    "avg_fare.show()\n",
    "df.orderBy(desc(\"trip_distance\")).select(\"trip_distance\", \"total_amount\").show(5)"
   ]
  }
 ],
 "metadata": {
  "kernelspec": {
   "display_name": "Python 3",
   "language": "python",
   "name": "python3"
  },
  "language_info": {
   "name": "python",
   "version": "3.8"
  }
 },
 "nbformat": 4,
 "nbformat_minor": 5
}